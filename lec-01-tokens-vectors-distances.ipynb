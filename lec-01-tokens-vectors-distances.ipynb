version https://git-lfs.github.com/spec/v1
oid sha256:97a90f3d1e79cdd443a21a7d95d6d65384240c1af39a9dcb2aedd07515bb4877
size 55457
